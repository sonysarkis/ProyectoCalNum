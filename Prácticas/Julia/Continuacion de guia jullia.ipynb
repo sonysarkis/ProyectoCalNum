{
 "cells": [
  {
   "cell_type": "markdown",
   "metadata": {},
   "source": [
    "Los operadores aritméticos en Julia se utilizan para realizar operaciones matemáticas básicas. Estos son similares a los de otros lenguajes de programación."
   ]
  },
  {
   "cell_type": "markdown",
   "metadata": {},
   "source": [
    "Suma"
   ]
  },
  {
   "cell_type": "code",
   "execution_count": null,
   "metadata": {},
   "outputs": [],
   "source": [
    "x = 2 + 2 \n",
    "println(x)# 4"
   ]
  },
  {
   "cell_type": "markdown",
   "metadata": {},
   "source": [
    "Resta"
   ]
  },
  {
   "cell_type": "code",
   "execution_count": null,
   "metadata": {},
   "outputs": [],
   "source": [
    "x = 5 - 2\n",
    "println(x)# 3"
   ]
  },
  {
   "cell_type": "markdown",
   "metadata": {},
   "source": [
    "Multiplicación"
   ]
  },
  {
   "cell_type": "code",
   "execution_count": null,
   "metadata": {},
   "outputs": [],
   "source": [
    "x = 3 * 4\n",
    "println(x)# 12"
   ]
  },
  {
   "cell_type": "markdown",
   "metadata": {},
   "source": [
    "División"
   ]
  },
  {
   "cell_type": "code",
   "execution_count": null,
   "metadata": {},
   "outputs": [],
   "source": [
    "x = 10 / 2\n",
    "println(x)# 5.0"
   ]
  },
  {
   "cell_type": "markdown",
   "metadata": {},
   "source": [
    "División entera"
   ]
  },
  {
   "cell_type": "code",
   "execution_count": null,
   "metadata": {},
   "outputs": [],
   "source": [
    "x = div(10, 3)\n",
    "println(x)# 3"
   ]
  },
  {
   "cell_type": "markdown",
   "metadata": {},
   "source": [
    "Módulo (resto)"
   ]
  },
  {
   "cell_type": "code",
   "execution_count": null,
   "metadata": {},
   "outputs": [],
   "source": [
    "x = 10 % 3\n",
    "println(x)# 1"
   ]
  },
  {
   "cell_type": "markdown",
   "metadata": {},
   "source": [
    "Exponenciación"
   ]
  },
  {
   "cell_type": "code",
   "execution_count": null,
   "metadata": {},
   "outputs": [],
   "source": [
    "x = 2 ^ 3\n",
    "println(x)# 8"
   ]
  },
  {
   "cell_type": "markdown",
   "metadata": {},
   "source": [
    "Los operadores lógicos en Julia se utilizan para realizar operaciones lógicas y comparaciones. Algunos de los operadores lógicos más comunes son:"
   ]
  },
  {
   "cell_type": "markdown",
   "metadata": {},
   "source": [
    "Igualdad"
   ]
  },
  {
   "cell_type": "code",
   "execution_count": null,
   "metadata": {},
   "outputs": [],
   "source": [
    "x  = 2 == 2 # true\n",
    "x = 2 == 3 # false\n",
    "# se usa == para comparar valores\n",
    "# se usa = para asignar valores"
   ]
  },
  {
   "cell_type": "markdown",
   "metadata": {},
   "source": [
    "Desigualdad"
   ]
  },
  {
   "cell_type": "code",
   "execution_count": null,
   "metadata": {},
   "outputs": [],
   "source": [
    "x = 2 != 3 # true\n",
    "x = 2 != 2 # false\n",
    "# se usa != para comparar valores"
   ]
  },
  {
   "cell_type": "markdown",
   "metadata": {},
   "source": [
    "Menor que < \n",
    "Menor o Igual que <="
   ]
  },
  {
   "cell_type": "code",
   "execution_count": null,
   "metadata": {},
   "outputs": [],
   "source": [
    "x = 2 < 3 # true\n",
    "x = 2 < 2 # false\n",
    "# se usa < para comparar si un valor es menor que otro\n",
    "x = 2 <= 2 # true\n",
    "x = 2 <= 3 # true\n",
    "# se usa <= para comparar si un valor es menor o igual que otro"
   ]
  },
  {
   "cell_type": "markdown",
   "metadata": {},
   "source": [
    "Mayor que > Mayor o igual que >="
   ]
  },
  {
   "cell_type": "code",
   "execution_count": null,
   "metadata": {},
   "outputs": [],
   "source": [
    "x = 2 > 3 # false\n",
    "x = 2 > 2 # false\n",
    "# se usa > para comparar si un valor es mayor que otro\n",
    "x = 2 >= 2 # true\n",
    "x= 2 >= 3 # false\n",
    "x = 2 >= 1 # true\n",
    "# se usa >= para comparar si un valor es mayor o igual que otro"
   ]
  },
  {
   "cell_type": "markdown",
   "metadata": {},
   "source": [
    "Booleano Verdadero Y Falso"
   ]
  },
  {
   "cell_type": "code",
   "execution_count": null,
   "metadata": {},
   "outputs": [],
   "source": [
    "x = true\n",
    "y = false\n",
    "#son los valores booleanos, true es verdadero y false es falso"
   ]
  },
  {
   "cell_type": "markdown",
   "metadata": {},
   "source": [
    "Negación"
   ]
  },
  {
   "cell_type": "code",
   "execution_count": null,
   "metadata": {},
   "outputs": [],
   "source": [
    "x = !true # false(falso)\n",
    "x = !false # true(Verdad)\n",
    "# se usa ! para negar un valor booleano"
   ]
  },
  {
   "cell_type": "markdown",
   "metadata": {},
   "source": [
    "Conjunción (AND)"
   ]
  },
  {
   "cell_type": "code",
   "execution_count": null,
   "metadata": {},
   "outputs": [],
   "source": [
    "x = true && true # true\n",
    "x = true && false # false\n",
    "# se usa && para comparar si ambos valores son verdaderos"
   ]
  },
  {
   "cell_type": "markdown",
   "metadata": {},
   "source": [
    "Disyunción (OR)"
   ]
  },
  {
   "cell_type": "code",
   "execution_count": null,
   "metadata": {},
   "outputs": [],
   "source": [
    "x = true || false # true\n",
    "x = false || false # false\n",
    "# se usa || para comparar si al menos uno de los valores es verdadero"
   ]
  },
  {
   "cell_type": "markdown",
   "metadata": {},
   "source": [
    "Condicionales\n",
    "Las estructuras condicionales en Julia se utilizan para evaluar si se cumple una codición y su sintaxis es:"
   ]
  },
  {
   "cell_type": "code",
   "execution_count": 6,
   "metadata": {},
   "outputs": [
    {
     "name": "stdout",
     "output_type": "stream",
     "text": [
      "x es positivo\n"
     ]
    }
   ],
   "source": [
    "x = 10\n",
    "\n",
    "if x > 0\n",
    "    println(\"x es positivo\")\n",
    "elseif x < 0\n",
    "    println(\"x es negativo\")\n",
    "else\n",
    "    println(\"x es cero\")\n",
    "end # x es positivo"
   ]
  },
  {
   "cell_type": "markdown",
   "metadata": {},
   "source": [
    "La diferencias de julia con otros condicionales en otros lenguajes de programacion es que aqui se coloca un end despues del else, dino da error "
   ]
  },
  {
   "cell_type": "markdown",
   "metadata": {},
   "source": [
    "Tambien existe la estructura condicional ternaria para ahorrar lineas de codigo"
   ]
  },
  {
   "cell_type": "code",
   "execution_count": 7,
   "metadata": {},
   "outputs": [
    {
     "name": "stdout",
     "output_type": "stream",
     "text": [
      "y es positivo\n"
     ]
    }
   ],
   "source": [
    "y = 5\n",
    "resultado = y > 0 ? \"y es positivo\" : \"y es negativo o cero\"\n",
    "println(resultado)"
   ]
  },
  {
   "cell_type": "markdown",
   "metadata": {},
   "source": [
    "Ciclos\n",
    "Los ciclos en Julia se utilizan para repetir un bloque de código varias veces. Los ciclos más comunes son while y for\n",
    ".Su sintaxis es muy parecida a los de otros lenguajes"
   ]
  },
  {
   "cell_type": "markdown",
   "metadata": {},
   "source": [
    "Ciclo while(Se repite hasta que deje de cumplirse la condicion)"
   ]
  },
  {
   "cell_type": "code",
   "execution_count": null,
   "metadata": {},
   "outputs": [],
   "source": [
    "x = 1\n",
    "while x <= 5\n",
    "    println(x)\n",
    "    x += 1\n",
    "end"
   ]
  },
  {
   "cell_type": "markdown",
   "metadata": {},
   "source": [
    "Aqui tambien se coloca un end al final"
   ]
  },
  {
   "cell_type": "markdown",
   "metadata": {},
   "source": [
    "Ciclo for(Se repite hasta un numero determinado de veces)"
   ]
  },
  {
   "cell_type": "code",
   "execution_count": null,
   "metadata": {},
   "outputs": [],
   "source": [
    "# aqui se imprime 1, 2, 3, 4, 5 y se iterra 5 veces en un rango de 1 a 5\n",
    "for i in 1:5\n",
    "    println(i)\n",
    "end"
   ]
  },
  {
   "cell_type": "markdown",
   "metadata": {},
   "source": [
    "Iterar sobre una coleccion o Lista"
   ]
  },
  {
   "cell_type": "code",
   "execution_count": null,
   "metadata": {},
   "outputs": [],
   "source": [
    "nombres = [\"Diego\", \"Pepe\", \"Pablo\"]\n",
    "for nombre in nombres\n",
    "    println(nombre)\n",
    "end\n",
    "# aqui se imprime Diego, Pepe, Pablo y se iterra 3 dependiendo de la cantidad de elementos en el arreglo"
   ]
  },
  {
   "cell_type": "markdown",
   "metadata": {},
   "source": [
    "Julia Tambien permite estructuras de control de flujo como el break y el continue"
   ]
  },
  {
   "cell_type": "markdown",
   "metadata": {},
   "source": [
    "Break\n"
   ]
  },
  {
   "cell_type": "code",
   "execution_count": null,
   "metadata": {},
   "outputs": [],
   "source": [
    "\n",
    "for i in 1:10\n",
    "    if i == 5\n",
    "        break\n",
    "    end\n",
    "    println(i)\n",
    "end\n",
    "# aqui el break se ejecuta cuando i es igual a 5 y se detiene la iteracion"
   ]
  },
  {
   "cell_type": "markdown",
   "metadata": {},
   "source": [
    "Continue"
   ]
  },
  {
   "cell_type": "code",
   "execution_count": null,
   "metadata": {},
   "outputs": [],
   "source": [
    "\n",
    "for i in 1:10\n",
    "    if i == 5\n",
    "        continue\n",
    "    end\n",
    "    println(i)\n",
    "end\n",
    "# aqui el continue se ejecuta cuando i es igual a 5 y se salta la iteracion de 5"
   ]
  }
 ],
 "metadata": {
  "kernelspec": {
   "display_name": "Julia 1.10.3",
   "language": "julia",
   "name": "julia-1.10"
  },
  "language_info": {
   "file_extension": ".jl",
   "mimetype": "application/julia",
   "name": "julia",
   "version": "1.10.3"
  }
 },
 "nbformat": 4,
 "nbformat_minor": 2
}
