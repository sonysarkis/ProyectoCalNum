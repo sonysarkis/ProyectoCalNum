{
 "cells": [
  {
   "cell_type": "code",
   "execution_count": null,
   "metadata": {},
   "outputs": [],
   "source": [
    "# Los comentarios que contengan solo una línea se hacen con \"#\" al principio, sin más, como por ejemplo en este caso.\n",
    "\n",
    "#= Si queremos hacer comentarios más extensos que contengan más de una (1)\n",
    "línea, como por ejemplo, este que estamos haciendo ahora mismo. \n",
    "Se coloca \"#=\" al principio y se cierra el comentario con \"=#\" =# "
   ]
  },
  {
   "cell_type": "code",
   "execution_count": 34,
   "metadata": {},
   "outputs": [
    {
     "name": "stdout",
     "output_type": "stream",
     "text": [
      "Hola, soy un estudiante. Tengo 19 años"
     ]
    },
    {
     "data": {
      "text/plain": [
       "true"
      ]
     },
     "metadata": {},
     "output_type": "display_data"
    }
   ],
   "source": [
    "# Declaración de variables. Primeros pasos.\n",
    "#= Los nombres de las variables deben comenzar con una letra (mayúscula o minúscula) \n",
    "o un guion bajo, y pueden contener letras, números, y guiones bajos \n",
    "después del primer carácter. Es un error poner un número como primer carácter. =#\n",
    "\n",
    "# Variable tipo cadena\n",
    "variable_cadena = \"Hola, soy un estudiante. \"\n",
    "# Mostramos\n",
    "print(variable_cadena)\n",
    "\n",
    "# Variable numérica\n",
    "variable_num = 19\n",
    "# Otra forma de mostrar las variables que queramos es escribiendolas con un \"$\" al inicio de la misma.\n",
    "print(\"Tengo $variable_num años\")\n",
    "\n",
    "# Variable booleana\n",
    "variable_bool = true"
   ]
  }
 ],
 "metadata": {
  "kernelspec": {
   "display_name": "Julia 1.10.3",
   "language": "julia",
   "name": "julia-1.10"
  },
  "language_info": {
   "file_extension": ".jl",
   "mimetype": "application/julia",
   "name": "julia",
   "version": "1.10.3"
  }
 },
 "nbformat": 4,
 "nbformat_minor": 2
}
