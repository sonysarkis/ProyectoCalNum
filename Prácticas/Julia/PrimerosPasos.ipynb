{
 "cells": [
  {
   "cell_type": "markdown",
   "metadata": {},
   "source": [
    "¿Cómo hacer comentarios?"
   ]
  },
  {
   "cell_type": "code",
   "execution_count": null,
   "metadata": {},
   "outputs": [],
   "source": [
    "# Los comentarios que contengan solo una línea se hacen con \"#\" al principio, sin más, como por ejemplo en este caso.\n",
    "\n",
    "#= Si queremos hacer comentarios más extensos que contengan más de una (1)\n",
    "línea, como por ejemplo, este que estamos haciendo ahora mismo. \n",
    "Se coloca \"#=\" al principio y se cierra el comentario con \"=#\" =# "
   ]
  },
  {
   "cell_type": "markdown",
   "metadata": {},
   "source": [
    "Declaración de variables. Primeros pasos.\n",
    "Los nombres de las variables deben comenzar con una letra (mayúscula o minúscula) \n",
    "o un guion bajo, y pueden contener letras, números, y guiones bajos \n",
    "después del primer carácter. Es un error poner un número como primer carácter.\n",
    "\n",
    "\n",
    "Declaración de variables asignando valores y su tipo\n",
    "Para especificar la variable se le coloca :: al final de la variable, después su tipo.\n",
    "Nota: El tipo de variable debe escribirse con su primera letra mayúscula. Ejemplo: \"Int\", \"int\" dará error."
   ]
  },
  {
   "cell_type": "code",
   "execution_count": 1,
   "metadata": {},
   "outputs": [
    {
     "name": "stdout",
     "output_type": "stream",
     "text": [
      "Hola, soy un estudiante. Tengo 19 años"
     ]
    },
    {
     "data": {
      "text/plain": [
       "true"
      ]
     },
     "metadata": {},
     "output_type": "display_data"
    }
   ],
   "source": [
    "\n",
    "\n",
    "# Variable tipo cadena\n",
    "variable_cadena::String = \"Hola, soy un estudiante. \"\n",
    "# Mostramos\n",
    "print(variable_cadena)\n",
    "\n",
    "# Variable numérica\n",
    "variable_num::Int = 19\n",
    "# Otra forma de mostrar las variables que queramos es escribiendolas con un \"$\" al inicio de la misma.\n",
    "print(\"Tengo $variable_num años\")\n",
    "\n",
    "# Variable booleana\n",
    "variable_bool::Bool = true"
   ]
  },
  {
   "cell_type": "markdown",
   "metadata": {},
   "source": [
    "Tipos de datos compuestos"
   ]
  },
  {
   "cell_type": "code",
   "execution_count": 34,
   "metadata": {},
   "outputs": [
    {
     "name": "stdout",
     "output_type": "stream",
     "text": [
      "El valor que ocupa la primera posición del vector es: 45\n",
      "La matriz es [1 2 3; 4 5 6; 7 8 9]\n",
      "La posición 2 de la tupla es: Julia\n",
      "Mi universidad es José Antonio Páez\n",
      "Número: 30"
     ]
    }
   ],
   "source": [
    "\n",
    "# Vector de enteros\n",
    "vector = [45, 34, 42]\n",
    "println(\"El valor que ocupa la primera posición del vector es: \", vector[1])\n",
    "\n",
    "# Matriz de enteros\n",
    "matriz = [1 2 3; 4 5 6; 7 8 9]\n",
    "println(\"La matriz es $matriz\")\n",
    "\n",
    "# Tupla\n",
    "tupla = (1, \"Julia\", true)\n",
    "println(\"La posición 2 de la tupla es: \", tupla[2])\n",
    "\n",
    "\n",
    "#= Si queremos declarar una variable constante, es decir, que su valor siempre\n",
    "será el mismo, se utiliza la palabra \"const\" antes de la variable separada por un espacio.=#\n",
    "const universidad = \"José Antonio Páez\"\n",
    "println(\"Mi universidad es $universidad\")\n",
    "\n",
    "\n",
    "# Declaración con asignación múltiple \n",
    "a,b,c = 10,20,30\n",
    "print(\"Número: \", c)\n",
    "\n"
   ]
  }
 ],
 "metadata": {
  "kernelspec": {
   "display_name": "Julia 1.10.3",
   "language": "julia",
   "name": "julia-1.10"
  },
  "language_info": {
   "file_extension": ".jl",
   "mimetype": "application/julia",
   "name": "julia",
   "version": "1.10.3"
  }
 },
 "nbformat": 4,
 "nbformat_minor": 2
}
