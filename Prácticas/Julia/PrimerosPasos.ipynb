{
 "cells": [
  {
   "cell_type": "code",
   "execution_count": null,
   "metadata": {},
   "outputs": [],
   "source": [
    "# Los comentarios que contengan solo una línea se hacen con \"#\" al principio, sin más, como por ejemplo en este caso.\n",
    "\n",
    "#= Si queremos hacer comentarios más extensos que contengan más de una (1)\n",
    "línea, como por ejemplo, este que estamos haciendo ahora mismo. \n",
    "Se coloca \"#=\" al principio y se cierra el comentario con \"=#\" =# "
   ]
  }
 ],
 "metadata": {
  "kernelspec": {
   "display_name": "Julia 1.10.3",
   "language": "julia",
   "name": "julia-1.10"
  },
  "language_info": {
   "file_extension": ".jl",
   "mimetype": "application/julia",
   "name": "julia",
   "version": "1.10.3"
  }
 },
 "nbformat": 4,
 "nbformat_minor": 2
}
