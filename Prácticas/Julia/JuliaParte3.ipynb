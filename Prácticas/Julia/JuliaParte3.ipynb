{
 "cells": [
  {
   "cell_type": "markdown",
   "metadata": {},
   "source": [
    "Funciones en Julia."
   ]
  },
  {
   "cell_type": "code",
   "execution_count": 18,
   "metadata": {},
   "outputs": [
    {
     "name": "stdout",
     "output_type": "stream",
     "text": [
      "5\n"
     ]
    }
   ],
   "source": [
    "#Sintaxis basica.\n",
    "function f(x, y)\n",
    "    #\"x\" y \"y\" son los argumentos de la funcion\n",
    "    x + y\n",
    "end\n",
    "\n",
    "#Forma abreviada.\n",
    "f(x, y) = x + y\n",
    "\n",
    "#Ejemplo\n",
    "println(f(2, 3))"
   ]
  },
  {
   "cell_type": "code",
   "execution_count": 19,
   "metadata": {},
   "outputs": [
    {
     "name": "stdout",
     "output_type": "stream",
     "text": [
      "par\n"
     ]
    }
   ],
   "source": [
    "#Declaración de un tipo de argumento en especifico. \n",
    "fib(n::Integer) = n % 2 == 0 ? \"par\" : \"impar\"\n",
    "println(fib(16))\n",
    "#En este caso la funcion fib solo acepta argumentos de tipo Integer."
   ]
  },
  {
   "cell_type": "code",
   "execution_count": 20,
   "metadata": {},
   "outputs": [
    {
     "data": {
      "text/plain": [
       "3-element Vector{Int64}:\n",
       " 3\n",
       " 5\n",
       " 1"
      ]
     },
     "execution_count": 20,
     "metadata": {},
     "output_type": "execute_result"
    }
   ],
   "source": [
    "#=Funciones anonimas.\n",
    "Las funciones anónimas permiten crear funciones sin nombre,\n",
    "útiles para pasar como argumentos a otras funciones.=#\n",
    "map(x -> x+2, [1, 3, -1])\n",
    "#En este caso se esta aplicando la funcion anonima a cada elemento del arreglo."
   ]
  },
  {
   "cell_type": "markdown",
   "metadata": {},
   "source": [
    "Constructores en Julia."
   ]
  },
  {
   "cell_type": "code",
   "execution_count": 21,
   "metadata": {},
   "outputs": [
    {
     "name": "stdout",
     "output_type": "stream",
     "text": [
      "10\n"
     ]
    }
   ],
   "source": [
    "#Constructores externos.\n",
    "struct Foo\n",
    "    bar\n",
    "    baz\n",
    "end\n",
    "foo = Foo(10, 10) #Usa el mismo valor para 'bar' y 'baz'\n",
    "println(foo.bar)"
   ]
  },
  {
   "cell_type": "code",
   "execution_count": 22,
   "metadata": {},
   "outputs": [],
   "source": [
    "#Constructores internos.\n",
    "struct OrderedPair\n",
    "    x::Real\n",
    "    y::Real\n",
    "    # Se define un constructor interno llamado OrderedPair que toma dos argumentos, x e y.\n",
    "    # El constructor verifica si x es mayor que y. Si es así, se lanza un error indicando que los valores están fuera de orden.\n",
    "    # Si x no es mayor que y, se crea una nueva instancia de la estructura OrderedPair con los valores de x e y.\n",
    "    OrderedPair(x, y) = x > y ? error(\"out of order\") : new(x, y)\n",
    "end"
   ]
  },
  {
   "cell_type": "code",
   "execution_count": 26,
   "metadata": {},
   "outputs": [],
   "source": [
    "#Constructores con inicialización incompleta.\n",
    "mutable struct SelfReferential\n",
    "    obj::SelfReferential\n",
    "    \n",
    "    # Constructor de SelfReferential\n",
    "    SelfReferential() = begin\n",
    "        x = new()  # Creamos una nueva instancia de SelfReferential y la asignamos a la variable x\n",
    "        x.obj = x  # Asignamos x al campo obj de x mismo, creando una referencia circular\n",
    "    end\n",
    "end"
   ]
  },
  {
   "cell_type": "code",
   "execution_count": 27,
   "metadata": {},
   "outputs": [
    {
     "data": {
      "text/plain": [
       "Point{Int64}(1, 2)"
      ]
     },
     "execution_count": 27,
     "metadata": {},
     "output_type": "execute_result"
    }
   ],
   "source": [
    "#Constructores parametricos.\n",
    "struct Point{T<:Real}\n",
    "    x::T\n",
    "    y::T\n",
    "end\n",
    "Point(1, 2)  #Llama al constructor paramétrico implícito"
   ]
  },
  {
   "cell_type": "markdown",
   "metadata": {},
   "source": [
    "Manejo de excepciones en Julia."
   ]
  },
  {
   "cell_type": "code",
   "execution_count": 28,
   "metadata": {},
   "outputs": [
    {
     "name": "stdout",
     "output_type": "stream",
     "text": [
      "Ocurrió un error: UndefVarError(:FuncionPropensaAFallar)\n"
     ]
    }
   ],
   "source": [
    "#try-catch\n",
    "try\n",
    "    #Ejecucion del codigo.\n",
    "    resultado = FuncionPropensaAFallar()\n",
    "catch e\n",
    "    #Control de excepcion si el codigo a ejecutar falla.\n",
    "    #\"e\" es la variable que almacena la excepcion.\n",
    "    println(\"Ocurrió un error: \", e)\n",
    "end"
   ]
  }
 ],
 "metadata": {
  "kernelspec": {
   "display_name": "Julia 1.10.3",
   "language": "julia",
   "name": "julia-1.10"
  },
  "language_info": {
   "file_extension": ".jl",
   "mimetype": "application/julia",
   "name": "julia",
   "version": "1.10.3"
  }
 },
 "nbformat": 4,
 "nbformat_minor": 2
}
