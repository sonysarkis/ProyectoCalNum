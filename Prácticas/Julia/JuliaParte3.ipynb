{
 "cells": [
  {
   "cell_type": "markdown",
   "metadata": {},
   "source": [
    "Funciones en Julia."
   ]
  },
  {
   "cell_type": "code",
   "execution_count": null,
   "metadata": {},
   "outputs": [],
   "source": [
    "#Sintaxis basica.\n",
    "function f(x, y)\n",
    "    #\"x\" y \"y\" son los argumentos de la funcion\n",
    "    x + y\n",
    "end\n",
    "\n",
    "#Forma abreviada.\n",
    "f(x, y) = x + y\n",
    "\n",
    "#Ejemplo\n",
    "println(f(2, 3))"
   ]
  },
  {
   "cell_type": "code",
   "execution_count": null,
   "metadata": {},
   "outputs": [],
   "source": [
    "#Declaración de un tipo de argumento en especifico. \n",
    "fib(n::Integer) = n ≤ 2 ? one(n) : fib(n-1) + fib(n-2)[^1^][1]\n",
    "#En este caso la funcion fib solo acepta argumentos de tipo Integer."
   ]
  },
  {
   "cell_type": "code",
   "execution_count": 2,
   "metadata": {},
   "outputs": [
    {
     "data": {
      "text/plain": [
       "3-element Vector{Int64}:\n",
       " 3\n",
       " 5\n",
       " 1"
      ]
     },
     "execution_count": 2,
     "metadata": {},
     "output_type": "execute_result"
    }
   ],
   "source": [
    "#=Funciones anonimas.\n",
    "Las funciones anónimas permiten crear funciones sin nombre,\n",
    "útiles para pasar como argumentos a otras funciones.=#\n",
    "map(x -> x+2, [1, 3, -1])\n",
    "#En este caso se esta aplicando la funcion anonima a cada elemento del arreglo."
   ]
  }
 ],
 "metadata": {
  "kernelspec": {
   "display_name": "Julia 1.10.3",
   "language": "julia",
   "name": "julia-1.10"
  },
  "language_info": {
   "file_extension": ".jl",
   "mimetype": "application/julia",
   "name": "julia",
   "version": "1.10.3"
  }
 },
 "nbformat": 4,
 "nbformat_minor": 2
}
