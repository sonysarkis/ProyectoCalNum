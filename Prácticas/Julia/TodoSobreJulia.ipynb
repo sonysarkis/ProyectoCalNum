{
 "cells": [
  {
   "cell_type": "markdown",
   "metadata": {},
   "source": [
    "Sintaxis Basica del Lenguaje Julia"
   ]
  },
  {
   "cell_type": "markdown",
   "metadata": {},
   "source": [
    "¿Cómo hacer comentarios?"
   ]
  },
  {
   "cell_type": "code",
   "execution_count": null,
   "metadata": {},
   "outputs": [],
   "source": [
    "# Los comentarios que contengan solo una línea se hacen con \"#\" al principio, sin más, como por ejemplo en este caso.\n",
    "\n",
    "#= Si queremos hacer comentarios más extensos que contengan más de una (1)\n",
    "línea, como por ejemplo, este que estamos haciendo ahora mismo. \n",
    "Se coloca \"#=\" al principio y se cierra el comentario con \"=#\" =# "
   ]
  },
  {
   "cell_type": "markdown",
   "metadata": {},
   "source": [
    "Declaración de variables. Primeros pasos.\n",
    "Los nombres de las variables deben comenzar con una letra (mayúscula o minúscula) \n",
    "o un guion bajo, y pueden contener letras, números, y guiones bajos \n",
    "después del primer carácter. Es un error poner un número como primer carácter.\n",
    "\n",
    "\n",
    "Declaración de variables asignando valores y su tipo\n",
    "Para especificar la variable se le coloca :: al final de la variable, después su tipo.\n",
    "Nota: El tipo de variable debe escribirse con su primera letra mayúscula. Ejemplo: \"Int\", \"int\" dará error."
   ]
  },
  {
   "cell_type": "code",
   "execution_count": null,
   "metadata": {},
   "outputs": [
    {
     "name": "stdout",
     "output_type": "stream",
     "text": [
      "Hola, soy un estudiante. Tengo 19 años"
     ]
    },
    {
     "data": {
      "text/plain": [
       "true"
      ]
     },
     "metadata": {},
     "output_type": "display_data"
    }
   ],
   "source": [
    "\n",
    "\n",
    "# Variable tipo cadena\n",
    "variable_cadena::String = \"Hola, soy un estudiante. \"\n",
    "# Mostramos\n",
    "print(variable_cadena)\n",
    "\n",
    "# Variable numérica\n",
    "variable_num::Int = 19\n",
    "# Otra forma de mostrar las variables que queramos es escribiendolas con un \"$\" al inicio de la misma.\n",
    "print(\"Tengo $variable_num años\")\n",
    "\n",
    "# Variable booleana\n",
    "variable_bool::Bool = true"
   ]
  },
  {
   "cell_type": "markdown",
   "metadata": {},
   "source": [
    "Tipos de datos compuestos"
   ]
  },
  {
   "cell_type": "code",
   "execution_count": null,
   "metadata": {},
   "outputs": [
    {
     "name": "stdout",
     "output_type": "stream",
     "text": [
      "El valor que ocupa la primera posición del vector es: 45\n",
      "La matriz es [1 2 3; 4 5 6; 7 8 9]\n",
      "La posición 2 de la tupla es: Julia\n",
      "Mi universidad es José Antonio Páez\n",
      "Número: 30"
     ]
    }
   ],
   "source": [
    "\n",
    "# Vector de enteros\n",
    "vector = [45, 34, 42]\n",
    "println(\"El valor que ocupa la primera posición del vector es: \", vector[1])\n",
    "\n",
    "# Matriz de enteros\n",
    "matriz = [1 2 3; 4 5 6; 7 8 9]\n",
    "println(\"La matriz es $matriz\")\n",
    "\n",
    "# Tupla\n",
    "tupla = (1, \"Julia\", true)\n",
    "println(\"La posición 2 de la tupla es: \", tupla[2])\n",
    "\n",
    "\n",
    "#= Si queremos declarar una variable constante, es decir, que su valor siempre\n",
    "será el mismo, se utiliza la palabra \"const\" antes de la variable separada por un espacio.=#\n",
    "const universidad = \"José Antonio Páez\"\n",
    "println(\"Mi universidad es $universidad\")\n",
    "\n",
    "\n",
    "# Declaración con asignación múltiple \n",
    "a,b,c = 10,20,30\n",
    "print(\"Número: \", c)\n",
    "\n"
   ]
  },
  {
   "cell_type": "markdown",
   "metadata": {},
   "source": [
    "Los operadores aritméticos en Julia se utilizan para realizar operaciones matemáticas básicas. Estos son similares a los de otros lenguajes de programación."
   ]
  },
  {
   "cell_type": "markdown",
   "metadata": {},
   "source": [
    "Funciones en Julia."
   ]
  },
  {
   "cell_type": "code",
   "execution_count": null,
   "metadata": {},
   "outputs": [
    {
     "name": "stdout",
     "output_type": "stream",
     "text": [
      "5\n"
     ]
    }
   ],
   "source": [
    "#Sintaxis basica.\n",
    "function f(x, y)\n",
    "    #\"x\" y \"y\" son los argumentos de la funcion\n",
    "    x + y\n",
    "end\n",
    "\n",
    "#Forma abreviada.\n",
    "f(x, y) = x + y\n",
    "\n",
    "#Ejemplo\n",
    "println(f(2, 3))"
   ]
  },
  {
   "cell_type": "code",
   "execution_count": null,
   "metadata": {},
   "outputs": [
    {
     "name": "stdout",
     "output_type": "stream",
     "text": [
      "par\n"
     ]
    }
   ],
   "source": [
    "#Declaración de un tipo de argumento en especifico. \n",
    "fib(n::Integer) = n % 2 == 0 ? \"par\" : \"impar\"\n",
    "println(fib(16))\n",
    "#En este caso la funcion fib solo acepta argumentos de tipo Integer."
   ]
  },
  {
   "cell_type": "code",
   "execution_count": null,
   "metadata": {},
   "outputs": [
    {
     "data": {
      "text/plain": [
       "3-element Vector{Int64}:\n",
       " 3\n",
       " 5\n",
       " 1"
      ]
     },
     "metadata": {},
     "output_type": "display_data"
    }
   ],
   "source": [
    "#=Funciones anonimas.\n",
    "Las funciones anónimas permiten crear funciones sin nombre,\n",
    "útiles para pasar como argumentos a otras funciones.=#\n",
    "map(x -> x+2, [1, 3, -1])\n",
    "#En este caso se esta aplicando la funcion anonima a cada elemento del arreglo."
   ]
  },
  {
   "cell_type": "markdown",
   "metadata": {},
   "source": [
    "Constructores en Julia."
   ]
  },
  {
   "cell_type": "code",
   "execution_count": null,
   "metadata": {},
   "outputs": [
    {
     "name": "stdout",
     "output_type": "stream",
     "text": [
      "10\n"
     ]
    }
   ],
   "source": [
    "#Constructores externos.\n",
    "struct Foo\n",
    "    bar\n",
    "    baz\n",
    "end\n",
    "foo = Foo(10, 10) #Usa el mismo valor para 'bar' y 'baz'\n",
    "println(foo.bar)"
   ]
  },
  {
   "cell_type": "code",
   "execution_count": null,
   "metadata": {},
   "outputs": [],
   "source": [
    "#Constructores internos.\n",
    "struct OrderedPair\n",
    "    x::Real\n",
    "    y::Real\n",
    "    # Se define un constructor interno llamado OrderedPair que toma dos argumentos, x e y.\n",
    "    # El constructor verifica si x es mayor que y. Si es así, se lanza un error indicando que los valores están fuera de orden.\n",
    "    # Si x no es mayor que y, se crea una nueva instancia de la estructura OrderedPair con los valores de x e y.\n",
    "    OrderedPair(x, y) = x > y ? error(\"out of order\") : new(x, y)\n",
    "end"
   ]
  },
  {
   "cell_type": "code",
   "execution_count": null,
   "metadata": {},
   "outputs": [],
   "source": [
    "#Constructores con inicialización incompleta.\n",
    "mutable struct SelfReferential\n",
    "    obj::SelfReferential\n",
    "    \n",
    "    # Constructor de SelfReferential\n",
    "    SelfReferential() = begin\n",
    "        x = new()  # Creamos una nueva instancia de SelfReferential y la asignamos a la variable x\n",
    "        x.obj = x  # Asignamos x al campo obj de x mismo, creando una referencia circular\n",
    "    end\n",
    "end"
   ]
  },
  {
   "cell_type": "code",
   "execution_count": null,
   "metadata": {},
   "outputs": [
    {
     "data": {
      "text/plain": [
       "Point{Int64}(1, 2)"
      ]
     },
     "metadata": {},
     "output_type": "display_data"
    }
   ],
   "source": [
    "#Constructores parametricos.\n",
    "struct Point{T<:Real}\n",
    "    x::T\n",
    "    y::T\n",
    "end\n",
    "Point(1, 2)  #Llama al constructor paramétrico implícito"
   ]
  },
  {
   "cell_type": "markdown",
   "metadata": {},
   "source": [
    "Manejo de excepciones en Julia."
   ]
  },
  {
   "cell_type": "code",
   "execution_count": null,
   "metadata": {},
   "outputs": [
    {
     "name": "stdout",
     "output_type": "stream",
     "text": [
      "Ocurrió un error: UndefVarError(:FuncionPropensaAFallar)\n"
     ]
    }
   ],
   "source": [
    "#try-catch\n",
    "try\n",
    "    #Ejecucion del codigo.\n",
    "    resultado = FuncionPropensaAFallar()\n",
    "catch e\n",
    "    #Control de excepcion si el codigo a ejecutar falla.\n",
    "    #\"e\" es la variable que almacena la excepcion.\n",
    "    println(\"Ocurrió un error: \", e)\n",
    "end"
   ]
  },
  {
   "cell_type": "markdown",
   "metadata": {},
   "source": [
    "Suma"
   ]
  },
  {
   "cell_type": "code",
   "execution_count": null,
   "metadata": {},
   "outputs": [],
   "source": [
    "x = 2 + 2 \n",
    "println(x)# 4"
   ]
  },
  {
   "cell_type": "markdown",
   "metadata": {},
   "source": [
    "Resta"
   ]
  },
  {
   "cell_type": "code",
   "execution_count": null,
   "metadata": {},
   "outputs": [],
   "source": [
    "x = 5 - 2\n",
    "println(x)# 3"
   ]
  },
  {
   "cell_type": "markdown",
   "metadata": {},
   "source": [
    "Multiplicación"
   ]
  },
  {
   "cell_type": "code",
   "execution_count": null,
   "metadata": {},
   "outputs": [],
   "source": [
    "x = 3 * 4\n",
    "println(x)# 12"
   ]
  },
  {
   "cell_type": "markdown",
   "metadata": {},
   "source": [
    "División"
   ]
  },
  {
   "cell_type": "code",
   "execution_count": null,
   "metadata": {},
   "outputs": [],
   "source": [
    "x = 10 / 2\n",
    "println(x)# 5.0"
   ]
  },
  {
   "cell_type": "markdown",
   "metadata": {},
   "source": [
    "División entera"
   ]
  },
  {
   "cell_type": "code",
   "execution_count": null,
   "metadata": {},
   "outputs": [],
   "source": [
    "x = div(10, 3)\n",
    "println(x)# 3"
   ]
  },
  {
   "cell_type": "markdown",
   "metadata": {},
   "source": [
    "Módulo (resto)"
   ]
  },
  {
   "cell_type": "code",
   "execution_count": null,
   "metadata": {},
   "outputs": [],
   "source": [
    "x = 10 % 3\n",
    "println(x)# 1"
   ]
  },
  {
   "cell_type": "markdown",
   "metadata": {},
   "source": [
    "Exponenciación"
   ]
  },
  {
   "cell_type": "code",
   "execution_count": null,
   "metadata": {},
   "outputs": [],
   "source": [
    "x = 2 ^ 3\n",
    "println(x)# 8"
   ]
  },
  {
   "cell_type": "markdown",
   "metadata": {},
   "source": [
    "Los operadores lógicos en Julia se utilizan para realizar operaciones lógicas y comparaciones. Algunos de los operadores lógicos más comunes son:"
   ]
  },
  {
   "cell_type": "markdown",
   "metadata": {},
   "source": [
    "Igualdad"
   ]
  },
  {
   "cell_type": "code",
   "execution_count": null,
   "metadata": {},
   "outputs": [],
   "source": [
    "x  = 2 == 2 # true\n",
    "x = 2 == 3 # false\n",
    "# se usa == para comparar valores\n",
    "# se usa = para asignar valores"
   ]
  },
  {
   "cell_type": "markdown",
   "metadata": {},
   "source": [
    "Desigualdad"
   ]
  },
  {
   "cell_type": "code",
   "execution_count": null,
   "metadata": {},
   "outputs": [],
   "source": [
    "x = 2 != 3 # true\n",
    "x = 2 != 2 # false\n",
    "# se usa != para comparar valores"
   ]
  },
  {
   "cell_type": "markdown",
   "metadata": {},
   "source": [
    "Menor que < \n",
    "Menor o Igual que <="
   ]
  },
  {
   "cell_type": "code",
   "execution_count": null,
   "metadata": {},
   "outputs": [],
   "source": [
    "x = 2 < 3 # true\n",
    "x = 2 < 2 # false\n",
    "# se usa < para comparar si un valor es menor que otro\n",
    "x = 2 <= 2 # true\n",
    "x = 2 <= 3 # true\n",
    "# se usa <= para comparar si un valor es menor o igual que otro"
   ]
  },
  {
   "cell_type": "markdown",
   "metadata": {},
   "source": [
    "Mayor que > Mayor o igual que >="
   ]
  },
  {
   "cell_type": "code",
   "execution_count": null,
   "metadata": {},
   "outputs": [],
   "source": [
    "x = 2 > 3 # false\n",
    "x = 2 > 2 # false\n",
    "# se usa > para comparar si un valor es mayor que otro\n",
    "x = 2 >= 2 # true\n",
    "x= 2 >= 3 # false\n",
    "x = 2 >= 1 # true\n",
    "# se usa >= para comparar si un valor es mayor o igual que otro"
   ]
  },
  {
   "cell_type": "markdown",
   "metadata": {},
   "source": [
    "Booleano Verdadero Y Falso"
   ]
  },
  {
   "cell_type": "code",
   "execution_count": null,
   "metadata": {},
   "outputs": [],
   "source": [
    "x = true\n",
    "y = false\n",
    "#son los valores booleanos, true es verdadero y false es falso"
   ]
  },
  {
   "cell_type": "markdown",
   "metadata": {},
   "source": [
    "Negación"
   ]
  },
  {
   "cell_type": "code",
   "execution_count": null,
   "metadata": {},
   "outputs": [],
   "source": [
    "x = !true # false(falso)\n",
    "x = !false # true(Verdad)\n",
    "# se usa ! para negar un valor booleano"
   ]
  },
  {
   "cell_type": "markdown",
   "metadata": {},
   "source": [
    "Conjunción (AND)"
   ]
  },
  {
   "cell_type": "code",
   "execution_count": null,
   "metadata": {},
   "outputs": [],
   "source": [
    "x = true && true # true\n",
    "x = true && false # false\n",
    "# se usa && para comparar si ambos valores son verdaderos"
   ]
  },
  {
   "cell_type": "markdown",
   "metadata": {},
   "source": [
    "Disyunción (OR)"
   ]
  },
  {
   "cell_type": "code",
   "execution_count": null,
   "metadata": {},
   "outputs": [],
   "source": [
    "x = true || false # true\n",
    "x = false || false # false\n",
    "# se usa || para comparar si al menos uno de los valores es verdadero"
   ]
  },
  {
   "cell_type": "markdown",
   "metadata": {},
   "source": [
    "Condicionales\n",
    "Las estructuras condicionales en Julia se utilizan para evaluar si se cumple una codición y su sintaxis es:"
   ]
  },
  {
   "cell_type": "code",
   "execution_count": null,
   "metadata": {},
   "outputs": [
    {
     "name": "stdout",
     "output_type": "stream",
     "text": [
      "x es positivo\n"
     ]
    }
   ],
   "source": [
    "x = 10\n",
    "\n",
    "if x > 0\n",
    "    println(\"x es positivo\")\n",
    "elseif x < 0\n",
    "    println(\"x es negativo\")\n",
    "else\n",
    "    println(\"x es cero\")\n",
    "end # x es positivo"
   ]
  },
  {
   "cell_type": "markdown",
   "metadata": {},
   "source": [
    "La diferencias de julia con otros condicionales en otros lenguajes de programacion es que aqui se coloca un end despues del else, dino da error "
   ]
  },
  {
   "cell_type": "markdown",
   "metadata": {},
   "source": [
    "Tambien existe la estructura condicional ternaria para ahorrar lineas de codigo"
   ]
  },
  {
   "cell_type": "code",
   "execution_count": null,
   "metadata": {},
   "outputs": [
    {
     "name": "stdout",
     "output_type": "stream",
     "text": [
      "y es positivo\n"
     ]
    }
   ],
   "source": [
    "y = 5\n",
    "resultado = y > 0 ? \"y es positivo\" : \"y es negativo o cero\"\n",
    "println(resultado)"
   ]
  },
  {
   "cell_type": "markdown",
   "metadata": {},
   "source": [
    "Ciclos\n",
    "Los ciclos en Julia se utilizan para repetir un bloque de código varias veces. Los ciclos más comunes son while y for\n",
    ".Su sintaxis es muy parecida a los de otros lenguajes"
   ]
  },
  {
   "cell_type": "markdown",
   "metadata": {},
   "source": [
    "Ciclo while(Se repite hasta que deje de cumplirse la condicion)"
   ]
  },
  {
   "cell_type": "code",
   "execution_count": null,
   "metadata": {},
   "outputs": [],
   "source": [
    "x = 1\n",
    "while x <= 5\n",
    "    println(x)\n",
    "    x += 1\n",
    "end"
   ]
  },
  {
   "cell_type": "markdown",
   "metadata": {},
   "source": [
    "Aqui tambien se coloca un end al final"
   ]
  },
  {
   "cell_type": "markdown",
   "metadata": {},
   "source": [
    "Ciclo for(Se repite hasta un numero determinado de veces)"
   ]
  },
  {
   "cell_type": "code",
   "execution_count": null,
   "metadata": {},
   "outputs": [],
   "source": [
    "# aqui se imprime 1, 2, 3, 4, 5 y se iterra 5 veces en un rango de 1 a 5\n",
    "for i in 1:5\n",
    "    println(i)\n",
    "end"
   ]
  },
  {
   "cell_type": "markdown",
   "metadata": {},
   "source": [
    "Iterar sobre una coleccion o Lista"
   ]
  },
  {
   "cell_type": "code",
   "execution_count": null,
   "metadata": {},
   "outputs": [],
   "source": [
    "nombres = [\"Diego\", \"Pepe\", \"Pablo\"]\n",
    "for nombre in nombres\n",
    "    println(nombre)\n",
    "end\n",
    "# aqui se imprime Diego, Pepe, Pablo y se iterra 3 dependiendo de la cantidad de elementos en el arreglo"
   ]
  },
  {
   "cell_type": "markdown",
   "metadata": {},
   "source": [
    "Julia Tambien permite estructuras de control de flujo como el break y el continue"
   ]
  },
  {
   "cell_type": "markdown",
   "metadata": {},
   "source": [
    "Break\n"
   ]
  },
  {
   "cell_type": "code",
   "execution_count": null,
   "metadata": {},
   "outputs": [],
   "source": [
    "\n",
    "for i in 1:10\n",
    "    if i == 5\n",
    "        break\n",
    "    end\n",
    "    println(i)\n",
    "end\n",
    "# aqui el break se ejecuta cuando i es igual a 5 y se detiene la iteracion"
   ]
  },
  {
   "cell_type": "markdown",
   "metadata": {},
   "source": [
    "Continue"
   ]
  },
  {
   "cell_type": "code",
   "execution_count": null,
   "metadata": {},
   "outputs": [],
   "source": [
    "\n",
    "for i in 1:10\n",
    "    if i == 5\n",
    "        continue\n",
    "    end\n",
    "    println(i)\n",
    "end\n",
    "# aqui el continue se ejecuta cuando i es igual a 5 y se salta la iteracion de 5"
   ]
  }
 ],
 "metadata": {
  "kernelspec": {
   "display_name": "Julia 1.10.3",
   "language": "julia",
   "name": "julia-1.10"
  },
  "language_info": {
   "file_extension": ".jl",
   "mimetype": "application/julia",
   "name": "julia",
   "version": "1.10.3"
  }
 },
 "nbformat": 4,
 "nbformat_minor": 2
}
